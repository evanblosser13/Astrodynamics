{
 "cells": [
  {
   "cell_type": "markdown",
   "id": "08eeb560",
   "metadata": {},
   "source": [
    "# Hohmann Transfer"
   ]
  },
  {
   "cell_type": "code",
   "execution_count": 1,
   "id": "6cd516a0",
   "metadata": {},
   "outputs": [
    {
     "name": "stdout",
     "output_type": "stream",
     "text": [
      "mu = 398600.4418 km^3/s^2\n",
      "R_e = 6378.14 km\n"
     ]
    }
   ],
   "source": [
    "import math\n",
    "\n",
    "# Gravitational parameter\n",
    "mu = 3.986004418e5\n",
    "\n",
    "# Equatorial radius of the Earth\n",
    "R_e = 6378.14\n",
    "\n",
    "print(f\"mu = {mu} km^3/s^2\")\n",
    "print(f\"R_e = {R_e} km\")"
   ]
  },
  {
   "cell_type": "markdown",
   "id": "b844ba33",
   "metadata": {},
   "source": [
    "## Orbit 1"
   ]
  },
  {
   "cell_type": "code",
   "execution_count": 2,
   "id": "34043e04",
   "metadata": {},
   "outputs": [
    {
     "name": "stdout",
     "output_type": "stream",
     "text": [
      "r_1 = 6678.14 km\n"
     ]
    }
   ],
   "source": [
    "# Initial radius\n",
    "r_1 = 300.0 + R_e\n",
    "print(f\"r_1 = {r_1} km\")"
   ]
  },
  {
   "cell_type": "code",
   "execution_count": 3,
   "id": "216a5c2e",
   "metadata": {},
   "outputs": [
    {
     "name": "stdout",
     "output_type": "stream",
     "text": [
      "v_1 = 7.725758496767356 km/s\n"
     ]
    }
   ],
   "source": [
    "v_1 = math.sqrt(mu/r_1)\n",
    "print(f\"v_1 = {v_1} km/s\")"
   ]
  },
  {
   "cell_type": "markdown",
   "id": "75d815d3",
   "metadata": {},
   "source": [
    "## Orbit 2"
   ]
  },
  {
   "cell_type": "code",
   "execution_count": 4,
   "id": "863965ec",
   "metadata": {},
   "outputs": [
    {
     "name": "stdout",
     "output_type": "stream",
     "text": [
      "r_2 = 9378.14 km\n"
     ]
    }
   ],
   "source": [
    "# Final radius\n",
    "r_2 = 3000.0 + R_e\n",
    "print(f\"r_2 = {r_2} km\")"
   ]
  },
  {
   "cell_type": "code",
   "execution_count": 5,
   "id": "9d193c6b",
   "metadata": {},
   "outputs": [
    {
     "name": "stdout",
     "output_type": "stream",
     "text": [
      "v_2 = 6.5194435911910595 km/s\n"
     ]
    }
   ],
   "source": [
    "v_2 = math.sqrt(mu/r_2)\n",
    "print(f\"v_2 = {v_2} km/s\")"
   ]
  },
  {
   "cell_type": "markdown",
   "id": "5d2c80d8",
   "metadata": {},
   "source": [
    "## Transfer Orbit"
   ]
  },
  {
   "cell_type": "code",
   "execution_count": 6,
   "id": "a22511e7",
   "metadata": {
    "scrolled": true
   },
   "outputs": [
    {
     "name": "stdout",
     "output_type": "stream",
     "text": [
      "a_t = 8028.139999999999 km\n",
      "E_t = -24.825204954074046 km^2/s^2\n",
      "v_p = 8.350106513847468 km/s\n",
      "v_a = 5.946081026129417 km/s\n"
     ]
    }
   ],
   "source": [
    "r_p = r_1 # Perigee radius\n",
    "r_a = r_2 # Apogee radius\n",
    "\n",
    "# Semi-major axis\n",
    "a_t = (r_p + r_a)/2.0\n",
    "print(f\"a_t = {a_t} km\")\n",
    "\n",
    "# Energy\n",
    "E_t = -mu/(2*a_t)\n",
    "print(f\"E_t = {E_t} km^2/s^2\")\n",
    "\n",
    "# Velocity at perigee\n",
    "v_p = math.sqrt(2.0*(mu/r_p + E_t))\n",
    "print(f\"v_p = {v_p} km/s\")\n",
    "\n",
    "# Velocity at apogee\n",
    "v_a = math.sqrt(2.0*(mu/r_a + E_t))\n",
    "print(f\"v_a = {v_a} km/s\")"
   ]
  },
  {
   "cell_type": "markdown",
   "id": "1ca52568",
   "metadata": {},
   "source": [
    "## Transfer delta-v"
   ]
  },
  {
   "cell_type": "code",
   "execution_count": 7,
   "id": "f04749c5",
   "metadata": {},
   "outputs": [
    {
     "name": "stdout",
     "output_type": "stream",
     "text": [
      "dv_1 = 0.6243480170801119 km/s\n",
      "dv_2 = 0.5733625650616423 km/s\n",
      "dv_t =  1.1977 km/s\n"
     ]
    }
   ],
   "source": [
    "# First delta-v\n",
    "dv_1 = v_p - v_1\n",
    "print(f\"dv_1 = {dv_1} km/s\")\n",
    "\n",
    "# Second delta-v\n",
    "dv_2 = v_2 - v_a\n",
    "print(f\"dv_2 = {dv_2} km/s\")\n",
    "\n",
    "# Total delta-v for thr Hohmann transfer\n",
    "dv_t = abs(dv_1) + abs(dv_2)\n",
    "print(f\"dv_t = {dv_t:7.5} km/s\")"
   ]
  },
  {
   "cell_type": "code",
   "execution_count": 14,
   "id": "766e6e5f",
   "metadata": {},
   "outputs": [
    {
     "name": "stdout",
     "output_type": "stream",
     "text": [
      "TOF (Hohmann) = 3579.343602659138 s or 0.9942621118497605 hours\n"
     ]
    }
   ],
   "source": [
    "TOF_ho = math.pi*math.sqrt(a_t**3/mu)\n",
    "print(f\"TOF (Hohmann) = {TOF_ho} s or {TOF_ho/3600} hours\")"
   ]
  },
  {
   "cell_type": "markdown",
   "id": "c569155e",
   "metadata": {},
   "source": [
    "# Bi-eiliptic Transfer\n",
    "\n",
    "## Example from Problem 6.17 in Curtis, 2020\n",
    "\n",
    "![Fig01](Fig01.png)\n",
    "\n",
    "### A spacecraft is in a 300-km circular orbit. Calculate"
   ]
  },
  {
   "cell_type": "markdown",
   "id": "adbfbb3c",
   "metadata": {},
   "source": [
    "### a) The total delta-v required for the bi-elliptical transfer to the 3000-km altitude coplanar circular orbit shown."
   ]
  },
  {
   "cell_type": "markdown",
   "id": "e50337b1",
   "metadata": {},
   "source": [
    "The velocities v_1 and v_2 for the initial (1) and final (4) orbits, respectively, where calculated in the Hohmann transfer. Thus, we have to calculate the orbital parameters for the transfer orbits:"
   ]
  },
  {
   "cell_type": "code",
   "execution_count": 9,
   "id": "42eef515",
   "metadata": {},
   "outputs": [
    {
     "name": "stdout",
     "output_type": "stream",
     "text": [
      "rp_2 = 6678.14 km\n",
      "e_2 = 0.3\n",
      "ra_2 = 12402.260000000002 km\n",
      "a_2 = 9540.2 km\n",
      "E_2 = -20.89057052263055 km^2/s^2\n",
      "v2_A = 8.808719978264998 km/s\n",
      "v2_B = 4.743156911373458 km/s\n",
      "TOF_1 = 4636.787615253662 s\n"
     ]
    }
   ],
   "source": [
    "# Transfer orbit (2):\n",
    "rp_2 = r_1\n",
    "print(f\"rp_2 = {rp_2} km\")\n",
    "\n",
    "e_2 = 0.3\n",
    "print(f\"e_2 = {e_2}\")\n",
    "\n",
    "ra_2 = rp_2*(1+e_2)/(1-e_2)\n",
    "print(f\"ra_2 = {ra_2} km\")\n",
    "\n",
    "a_2 = (ra_2 + rp_2)/2.0\n",
    "print(f\"a_2 = {a_2} km\")\n",
    "\n",
    "E_2 = -mu/(2*a_2)\n",
    "print(f\"E_2 = {E_2} km^2/s^2\")\n",
    "\n",
    "v2_A = math.sqrt(2.0*(mu/rp_2 + E_2))\n",
    "print(f\"v2_A = {v2_A} km/s\")\n",
    "\n",
    "v2_B = math.sqrt(2.0*(mu/ra_2 + E_2))\n",
    "print(f\"v2_B = {v2_B} km/s\")\n",
    "\n",
    "# Period of the ellipse 2:\n",
    "P_2 = 2*math.pi*math.sqrt(a_2**3/mu)\n",
    "\n",
    "TOF_1 = P_2/2.0\n",
    "print(f\"TOF_1 = {TOF_1} s\")"
   ]
  },
  {
   "cell_type": "code",
   "execution_count": 10,
   "id": "211ecda7",
   "metadata": {},
   "outputs": [
    {
     "name": "stdout",
     "output_type": "stream",
     "text": [
      "rp_3 = 6678.14 km\n",
      "ra_3 = 12402.260000000002 km\n",
      "e_3 = 0.13884593487722918\n",
      "a_3 = 10890.2 km\n",
      "a_3 = -18.300877936126057 km^2/s^2\n",
      "v3_C = 6.957336674704785 km/s\n",
      "v3_B = 5.260886109670005 km/s\n",
      "TOF_2 = 5655.028114333964 s\n"
     ]
    }
   ],
   "source": [
    "# Transfer orbit (3):\n",
    "rp_3 = r_2\n",
    "print(f\"rp_3 = {rp_2} km\")\n",
    "\n",
    "ra_3 = ra_2\n",
    "print(f\"ra_3 = {ra_2} km\")\n",
    "\n",
    "e_3 = (ra_3 - rp_3)/(ra_3 + rp_3)\n",
    "print(f\"e_3 = {e_3}\")\n",
    "\n",
    "a_3 = (ra_3 + rp_3)/2.0\n",
    "print(f\"a_3 = {a_3} km\")\n",
    "\n",
    "E_3 = -mu/(2*a_3)\n",
    "print(f\"a_3 = {E_3} km^2/s^2\")\n",
    "\n",
    "v3_C = math.sqrt(2.0*(mu/rp_3 + E_3))\n",
    "print(f\"v3_C = {v3_C} km/s\")\n",
    "\n",
    "v3_B = math.sqrt(2.0*(mu/ra_3 + E_3))\n",
    "print(f\"v3_B = {v3_B} km/s\")\n",
    "\n",
    "# Period of the ellipse 2:\n",
    "P_3 = 2*math.pi*math.sqrt(a_3**3/mu)\n",
    "\n",
    "TOF_2 = P_3/2.0\n",
    "print(f\"TOF_2 = {TOF_2} s\")"
   ]
  },
  {
   "cell_type": "markdown",
   "id": "8638a4b2",
   "metadata": {},
   "source": [
    "##### Delta-v:"
   ]
  },
  {
   "cell_type": "code",
   "execution_count": 11,
   "id": "3515b137",
   "metadata": {},
   "outputs": [
    {
     "name": "stdout",
     "output_type": "stream",
     "text": [
      "dv_A = 1.0829614814976418 km/s\n",
      "dv_B = 0.5177291982965464 km/s\n",
      "dv_C = -0.4378930835137256 km/s\n",
      "Total delta-v = 2.038583763307914 km/s\n"
     ]
    }
   ],
   "source": [
    "dv_A = v2_A - v_1\n",
    "print(f\"dv_A = {dv_A} km/s\")\n",
    "\n",
    "dv_B = v3_B - v2_B\n",
    "print(f\"dv_B = {dv_B} km/s\")\n",
    "\n",
    "dv_C = v_2 - v3_C\n",
    "print(f\"dv_C = {dv_C} km/s\")\n",
    "\n",
    "# Total delta-v:\n",
    "dv_BE = abs(dv_A) + abs(dv_B) + abs(dv_C)\n",
    "print(f\"Total delta-v = {dv_BE} km/s\")"
   ]
  },
  {
   "cell_type": "markdown",
   "id": "29159d95",
   "metadata": {},
   "source": [
    "### b) The total transfer time"
   ]
  },
  {
   "cell_type": "code",
   "execution_count": 12,
   "id": "acb1e5c9",
   "metadata": {},
   "outputs": [],
   "source": [
    "TOF_BE = TOF_1 + TOF_2"
   ]
  },
  {
   "cell_type": "code",
   "execution_count": 13,
   "id": "2ae85f61",
   "metadata": {},
   "outputs": [
    {
     "name": "stdout",
     "output_type": "stream",
     "text": [
      "Total TOF = 10291.815729587626 s or 2.8588377026632297 hours\n"
     ]
    }
   ],
   "source": [
    "print(f\"Total TOF = {TOF_BE} s or {TOF_BE/3600.0} hours\")"
   ]
  },
  {
   "cell_type": "code",
   "execution_count": null,
   "id": "6ebabac3",
   "metadata": {},
   "outputs": [],
   "source": []
  }
 ],
 "metadata": {
  "kernelspec": {
   "display_name": "Python 3 (ipykernel)",
   "language": "python",
   "name": "python3"
  },
  "language_info": {
   "codemirror_mode": {
    "name": "ipython",
    "version": 3
   },
   "file_extension": ".py",
   "mimetype": "text/x-python",
   "name": "python",
   "nbconvert_exporter": "python",
   "pygments_lexer": "ipython3",
   "version": "3.10.7"
  },
  "vscode": {
   "interpreter": {
    "hash": "aee8b7b246df8f9039afb4144a1f6fd8d2ca17a180786b69acc140d282b71a49"
   }
  }
 },
 "nbformat": 4,
 "nbformat_minor": 5
}
