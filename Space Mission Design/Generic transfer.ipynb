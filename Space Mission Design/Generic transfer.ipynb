{
 "cells": [
  {
   "cell_type": "markdown",
   "id": "08eeb560",
   "metadata": {},
   "source": [
    "# Generic Transfer\n",
    "\n",
    "## Calculate the total delta-v required to transfer between two coplanar circular orbits of radii r_1 = 12,750 km and r_2 = 31,890 kmn, respectively, using a transfer ellipse having parameters p = 13,457 km and e = 0.76."
   ]
  },
  {
   "cell_type": "code",
   "execution_count": 1,
   "id": "6cd516a0",
   "metadata": {},
   "outputs": [
    {
     "name": "stdout",
     "output_type": "stream",
     "text": [
      "mu = 398600.4418 km^3/s^2\n",
      "R_e = 6378.14 km\n"
     ]
    }
   ],
   "source": [
    "import math\n",
    "\n",
    "# Gravitational parameter\n",
    "mu = 3.986004418e5\n",
    "\n",
    "# Equatorial radius of the Earth\n",
    "R_e = 6378.14\n",
    "\n",
    "print(f\"mu = {mu} km^3/s^2\")\n",
    "print(f\"R_e = {R_e} km\")"
   ]
  },
  {
   "cell_type": "markdown",
   "id": "b844ba33",
   "metadata": {},
   "source": [
    "## Orbit 1"
   ]
  },
  {
   "cell_type": "code",
   "execution_count": 2,
   "id": "34043e04",
   "metadata": {},
   "outputs": [
    {
     "name": "stdout",
     "output_type": "stream",
     "text": [
      "r_1 = 12750.0 km\n"
     ]
    }
   ],
   "source": [
    "# Initial radius\n",
    "r_1 = 12750.0\n",
    "print(f\"r_1 = {r_1} km\")"
   ]
  },
  {
   "cell_type": "code",
   "execution_count": 3,
   "id": "216a5c2e",
   "metadata": {},
   "outputs": [
    {
     "name": "stdout",
     "output_type": "stream",
     "text": [
      "v_C1 = 5.591312882411394 km/s\n"
     ]
    }
   ],
   "source": [
    "v_C1 = math.sqrt(mu/r_1)\n",
    "print(f\"v_C1 = {v_C1} km/s\")"
   ]
  },
  {
   "cell_type": "markdown",
   "id": "75d815d3",
   "metadata": {},
   "source": [
    "## Orbit 2"
   ]
  },
  {
   "cell_type": "code",
   "execution_count": 4,
   "id": "863965ec",
   "metadata": {},
   "outputs": [
    {
     "name": "stdout",
     "output_type": "stream",
     "text": [
      "r_2 = 31890.0 km\n"
     ]
    }
   ],
   "source": [
    "# Final radius\n",
    "r_2 = 31890.0\n",
    "print(f\"r_2 = {r_2} km\")"
   ]
  },
  {
   "cell_type": "code",
   "execution_count": 5,
   "id": "9d193c6b",
   "metadata": {},
   "outputs": [
    {
     "name": "stdout",
     "output_type": "stream",
     "text": [
      "v_C2 = 3.535424996950494 km/s\n"
     ]
    }
   ],
   "source": [
    "v_C2 = math.sqrt(mu/r_2)\n",
    "print(f\"v_C2 = {v_C2} km/s\")"
   ]
  },
  {
   "cell_type": "markdown",
   "id": "5d2c80d8",
   "metadata": {},
   "source": [
    "## Transfer Orbit (If Hohmann)"
   ]
  },
  {
   "cell_type": "code",
   "execution_count": 6,
   "id": "a22511e7",
   "metadata": {
    "scrolled": true
   },
   "outputs": [
    {
     "name": "stdout",
     "output_type": "stream",
     "text": [
      "a_t = 22320.0 km\n",
      "E_t = -8.929221366487454 km^2/s^2\n",
      "v_p = 6.683346225137847 km/s\n",
      "v_a = 2.6720810401538904 km/s\n"
     ]
    }
   ],
   "source": [
    "r_p = r_1 # Perigee radius\n",
    "r_a = r_2 # Apogee radius\n",
    "\n",
    "# Semi-major axis\n",
    "a_t = (r_p + r_a)/2.0\n",
    "print(f\"a_t = {a_t} km\")\n",
    "\n",
    "# Energy\n",
    "E_t = -mu/(2*a_t)\n",
    "print(f\"E_t = {E_t} km^2/s^2\")\n",
    "\n",
    "# Velocity at perigee\n",
    "v_p = math.sqrt(2.0*(mu/r_p + E_t))\n",
    "print(f\"v_p = {v_p} km/s\")\n",
    "\n",
    "# Velocity at apogee\n",
    "v_a = math.sqrt(2.0*(mu/r_a + E_t))\n",
    "print(f\"v_a = {v_a} km/s\")"
   ]
  },
  {
   "cell_type": "markdown",
   "id": "1ca52568",
   "metadata": {},
   "source": [
    "## Transfer delta-v (If Hohmann)"
   ]
  },
  {
   "cell_type": "code",
   "execution_count": 7,
   "id": "f04749c5",
   "metadata": {},
   "outputs": [
    {
     "name": "stdout",
     "output_type": "stream",
     "text": [
      "dv_1 = 1.0920333427264532 km/s\n",
      "dv_2 = 0.8633439567966037 km/s\n",
      "Total delta-v (Hohmann): dv_t =  1.9554 km/s\n"
     ]
    }
   ],
   "source": [
    "# First delta-v\n",
    "dv_1 = v_p - v_C1\n",
    "print(f\"dv_1 = {dv_1} km/s\")\n",
    "\n",
    "# Second delta-v\n",
    "dv_2 = v_C2 - v_a\n",
    "print(f\"dv_2 = {dv_2} km/s\")\n",
    "\n",
    "# Total delta-v for thr Hohmann transfer\n",
    "dv_t = abs(dv_1) + abs(dv_2)\n",
    "print(f\"Total delta-v (Hohmann): dv_t = {dv_t:7.5} km/s\")"
   ]
  },
  {
   "cell_type": "code",
   "execution_count": 13,
   "id": "766e6e5f",
   "metadata": {},
   "outputs": [
    {
     "name": "stdout",
     "output_type": "stream",
     "text": [
      "TOF (Hohmann) = 16592.899021277943 s = 4.60913861702165 hours\n"
     ]
    }
   ],
   "source": [
    "TOF_ho = math.pi*math.sqrt(a_t**3/mu)\n",
    "print(f\"TOF (Hohmann) = {TOF_ho} s = {TOF_ho/3600.0} hours\")"
   ]
  },
  {
   "cell_type": "markdown",
   "id": "c569155e",
   "metadata": {},
   "source": [
    "## Now, using the transfer ellipse having parameters p = 13,457 km and e = 0.76:"
   ]
  },
  {
   "cell_type": "markdown",
   "id": "e50337b1",
   "metadata": {},
   "source": [
    "1) Find the transfer orbit's energy:"
   ]
  },
  {
   "cell_type": "code",
   "execution_count": 9,
   "id": "42eef515",
   "metadata": {},
   "outputs": [
    {
     "name": "stdout",
     "output_type": "stream",
     "text": [
      "rp = 7646.022727272727 km\n",
      "ra = 56070.833333333336 km\n",
      "a = 31858.428030303032 km\n",
      "E = -6.255808375429887 km^2/s^2\n"
     ]
    }
   ],
   "source": [
    "# Transfer orbit:\n",
    "p = 13457 #km\n",
    "e = 0.76\n",
    "\n",
    "rp = p/(1 + e)\n",
    "print(f\"rp = {rp} km\")\n",
    "\n",
    "ra = p/(1 - e)\n",
    "print(f\"ra = {ra} km\")\n",
    "\n",
    "a = (ra + rp)/2.0\n",
    "print(f\"a = {a} km\")\n",
    "\n",
    "E = -mu/(2*a)\n",
    "print(f\"E = {E} km^2/s^2\")"
   ]
  },
  {
   "cell_type": "markdown",
   "id": "2454042a",
   "metadata": {},
   "source": [
    "2) Find the velocity at the perigee and the angular momentum at the perigee"
   ]
  },
  {
   "cell_type": "code",
   "execution_count": 10,
   "id": "643650c5",
   "metadata": {},
   "outputs": [
    {
     "name": "stdout",
     "output_type": "stream",
     "text": [
      "vp = 9.578718921284395 km/s\n",
      "h = 73239.10257029778 km^2/s\n"
     ]
    }
   ],
   "source": [
    "vp = math.sqrt(2.0*(mu/rp + E))\n",
    "print(f\"vp = {vp} km/s\")\n",
    "\n",
    "# At the prerigee, h = rv cos(0)\n",
    "\n",
    "h = rp*vp\n",
    "\n",
    "print(f\"h = {h} km^2/s\")"
   ]
  },
  {
   "cell_type": "markdown",
   "id": "485f14e8",
   "metadata": {},
   "source": [
    "3) The angular momentum is constant along the transfer orbit. Consequently, we can use the angular momentum to calculate the cosine of the flight path angle at any point of the orbit, including at r_1 and r_2:"
   ]
  },
  {
   "cell_type": "code",
   "execution_count": 11,
   "id": "211ecda7",
   "metadata": {},
   "outputs": [
    {
     "name": "stdout",
     "output_type": "stream",
     "text": [
      "v1 = 7.072053644252103 km/s\n",
      "cos(phi_1) = 0.8122454421023217\n",
      "v2 = 3.5336727447890572 km/s\n",
      "cos(phi_2) = 0.6499233915150706\n"
     ]
    }
   ],
   "source": [
    "# Transfer orbit's velocity when r = r_1:\n",
    "\n",
    "v1 = math.sqrt(2.0*(mu/r_1 + E))  # The energy is also constant\n",
    "print(f\"v1 = {v1} km/s\")\n",
    "\n",
    "cos_phi_1 = h/(r_1*v1)  # cos(phi) at r = r_1\n",
    "print(f\"cos(phi_1) = {cos_phi_1}\")\n",
    "\n",
    "# Transfer orbit's velocity when r = r_2:\n",
    "\n",
    "v2 = math.sqrt(2.0*(mu/r_2 + E))  # The energy is also constant\n",
    "print(f\"v2 = {v2} km/s\")\n",
    "\n",
    "cos_phi_2 = h/(r_2*v2)  # cos(phi) at r = r_1\n",
    "print(f\"cos(phi_2) = {cos_phi_2}\")"
   ]
  },
  {
   "cell_type": "markdown",
   "id": "8638a4b2",
   "metadata": {},
   "source": [
    "4) Finally, calculate the total delta-v:"
   ]
  },
  {
   "cell_type": "code",
   "execution_count": 12,
   "id": "3515b137",
   "metadata": {},
   "outputs": [
    {
     "name": "stdout",
     "output_type": "stream",
     "text": [
      "dv_1 = 4.12807448283073 km/s\n",
      "dv_2 = 2.9575398023401807 km/s\n",
      "Total delta-v =  7.0856 km/s\n"
     ]
    }
   ],
   "source": [
    "dv_1 = math.sqrt(v1**2 + v_C1**2 - 2*v1*v_C1*cos_phi_1)\n",
    "print(f\"dv_1 = {dv_1} km/s\")\n",
    "\n",
    "dv_2 = math.sqrt(v2**2 + v_C2**2 - 2*v2*v_C2*cos_phi_2)\n",
    "print(f\"dv_2 = {dv_2} km/s\")\n",
    "\n",
    "# Total delta-v:\n",
    "dv = abs(dv_1) + abs(dv_2)\n",
    "print(f\"Total delta-v = {dv:7.5} km/s\")"
   ]
  }
 ],
 "metadata": {
  "kernelspec": {
   "display_name": "Python 3 (ipykernel)",
   "language": "python",
   "name": "python3"
  },
  "language_info": {
   "codemirror_mode": {
    "name": "ipython",
    "version": 3
   },
   "file_extension": ".py",
   "mimetype": "text/x-python",
   "name": "python",
   "nbconvert_exporter": "python",
   "pygments_lexer": "ipython3",
   "version": "3.10.7"
  }
 },
 "nbformat": 4,
 "nbformat_minor": 5
}
