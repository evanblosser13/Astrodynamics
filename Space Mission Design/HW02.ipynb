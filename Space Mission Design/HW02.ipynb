{
 "cells": [
  {
   "cell_type": "markdown",
   "id": "08eeb560",
   "metadata": {},
   "source": [
    "# AME 4593/5593 - HW02 Solutions"
   ]
  },
  {
   "cell_type": "code",
   "execution_count": 1,
   "id": "2cffa230",
   "metadata": {},
   "outputs": [],
   "source": [
    "import math\n",
    "import numpy as np"
   ]
  },
  {
   "cell_type": "code",
   "execution_count": 2,
   "id": "e969a019",
   "metadata": {},
   "outputs": [
    {
     "name": "stdout",
     "output_type": "stream",
     "text": [
      "mu = 398600.4418 km^3/s^2\n",
      "R_e = 6378.14 km\n"
     ]
    }
   ],
   "source": [
    "# Gravitational parameter\n",
    "mu = 3.986004418e5 # km^3/s^2\n",
    "\n",
    "# Equatorial radius of the Earth\n",
    "R_e = 6378.14 # km\n",
    "\n",
    "print(f\"mu = {mu} km^3/s^2\")\n",
    "print(f\"R_e = {R_e} km\")"
   ]
  },
  {
   "cell_type": "markdown",
   "id": "221dd241",
   "metadata": {},
   "source": [
    "<font size=5>\n",
    "    Problem 1\n",
    "</font>"
   ]
  },
  {
   "cell_type": "markdown",
   "id": "4940ef9e",
   "metadata": {},
   "source": [
    "(2.0) The geocentric equatorial position vectors of a satellite at three consecutive separate times are:\n",
    "\n",
    "$\\vec{r}_1 = 5887~\\hat i - 3520~\\hat j - 1204~\\hat k~\\text{(km)}$,\n",
    "\n",
    "$\\vec{r}_2 = 5572~\\hat i - 3457~\\hat j - 2376~\\hat k~\\text{(km)}$, and\n",
    "\n",
    "$\\vec{r}_3 = 5088~\\hat i - 3289~\\hat j - 3480~\\hat k~\\text{(km)}$.\n",
    "\n",
    "Use the Gibbs method to find $\\vec{v}_2$.\n",
    "</font>"
   ]
  },
  {
   "cell_type": "markdown",
   "id": "b10370ad",
   "metadata": {},
   "source": [
    "<font size=5, color=red>\n",
    "    Solution\n",
    "</font>"
   ]
  },
  {
   "cell_type": "markdown",
   "id": "7ab42c50",
   "metadata": {},
   "source": [
    "<font size=4, color=red>\n",
    "    Step 1: Calculate $r_1$, $r_2$, and $r_3$:\n",
    "</font>"
   ]
  },
  {
   "cell_type": "code",
   "execution_count": 3,
   "id": "6ac0cc21",
   "metadata": {
    "scrolled": true
   },
   "outputs": [
    {
     "name": "stdout",
     "output_type": "stream",
     "text": [
      "r_1 = 6963.963311218691\n"
     ]
    }
   ],
   "source": [
    "# Defining the vector magnitude using the usual way\n",
    "r_1 = math.sqrt(5887**2 + (-3520)**2 + (-1204)**2)\n",
    "print(f\"r_1 = {r_1}\")"
   ]
  },
  {
   "cell_type": "code",
   "execution_count": 4,
   "id": "0eafaf9a",
   "metadata": {},
   "outputs": [
    {
     "name": "stdout",
     "output_type": "stream",
     "text": [
      "r_1 = 6963.963311218691\n",
      "r_2 = 6974.48270483195\n",
      "r_2 = 6986.820807778027\n"
     ]
    }
   ],
   "source": [
    "# Unsing numpy tools\n",
    "# 1. Create a list using the components of the vector as items of the list:\n",
    "r_1_list = [5887, -3520, -1204]\n",
    "# 2. Create the array:\n",
    "r_1_vec = np.array(r_1_list)\n",
    "# Calculate the absolute value (magnitude) of the vector\n",
    "r_1 = np.linalg.norm(r_1_vec)\n",
    "print(f\"r_1 = {r_1}\")\n",
    "\n",
    "# In a more compact way\n",
    "r_2_vec = np.array([5572, -3457, -2376])\n",
    "r_2 = np.linalg.norm(r_2_vec)\n",
    "print(f\"r_2 = {r_2}\")\n",
    "\n",
    "r_3_vec = np.array([5088, -3289, -3480])\n",
    "r_3 = np.linalg.norm(r_3_vec)\n",
    "print(f\"r_2 = {r_3}\")"
   ]
  },
  {
   "cell_type": "markdown",
   "id": "9b3eae48",
   "metadata": {},
   "source": [
    "<font size=4, color=red>\n",
    "    Step 2: Calculate $\\vec C_{12} = \\vec r_1 \\times \\vec r_2$, $\\vec C_{23} = \\vec r_2 \\times \\vec r_3$, and $\\vec C_{31} = \\vec r_3 \\times \\vec r_1$:\n",
    "</font>"
   ]
  },
  {
   "cell_type": "code",
   "execution_count": 5,
   "id": "da99ed4c",
   "metadata": {},
   "outputs": [
    {
     "name": "stdout",
     "output_type": "stream",
     "text": [
      "C_12_vec = [4201292 7278824 -737919]\n",
      "C_23_vec = [4215696 7301472 -737092]\n",
      "C_31_vec = [ -8289644 -14360808   1452583]\n"
     ]
    }
   ],
   "source": [
    "# I will use numpy from now on to calculate the vectorial calculations.\n",
    "# However, you can explicitly calculate everything.\n",
    "\n",
    "C_12_vec = np.cross(r_1_vec,r_2_vec)\n",
    "print(f\"C_12_vec = {C_12_vec}\")\n",
    "\n",
    "C_23_vec = np.cross(r_2_vec,r_3_vec)\n",
    "print(f\"C_23_vec = {C_23_vec}\")\n",
    "\n",
    "C_31_vec = np.cross(r_3_vec,r_1_vec)\n",
    "print(f\"C_31_vec = {C_31_vec}\")"
   ]
  },
  {
   "cell_type": "markdown",
   "id": "25abb5cf",
   "metadata": {},
   "source": [
    "<font size=4, color=red>\n",
    "    Step 3: Verify if the vectors are all coplanar, i.e., $\\hat u_{r_1}\\cdot \\hat C_{23} = 0$\n",
    "</font>"
   ]
  },
  {
   "cell_type": "code",
   "execution_count": 6,
   "id": "f5d93f4e",
   "metadata": {},
   "outputs": [
    {
     "name": "stdout",
     "output_type": "stream",
     "text": [
      "r_1_dir = [ 0.84535196 -0.5054593  -0.17289006]\n",
      "C_23_dir = [ 0.49811685  0.86272498 -0.08709308]\n",
      "coplanar = 6.921999687944104e-05\n"
     ]
    }
   ],
   "source": [
    "# Calculate the direction of the vector r_1:\n",
    "r_1_dir = r_1_vec/r_1\n",
    "print(f\"r_1_dir = {r_1_dir}\")\n",
    "\n",
    "# Calculate the magnitude of vector C_23_vec and its direction:\n",
    "C_23 = np.linalg.norm(C_23_vec)\n",
    "C_23_dir = C_23_vec/C_23\n",
    "print(f\"C_23_dir = {C_23_dir}\")\n",
    "\n",
    "# Calculate the dot product between r_1_dir and C_23_dir:\n",
    "\n",
    "coplanar = np.dot(r_1_dir, C_23_dir)\n",
    "print(f\"coplanar = {coplanar}\")\n",
    "\n",
    "# if coplanar > 0, the vectors are not coplanar and we cannot use Gibbs method.\n",
    "# In our case, the vectors pass in the test"
   ]
  },
  {
   "cell_type": "markdown",
   "id": "cb429731",
   "metadata": {},
   "source": [
    "<font size=4, color=red>\n",
    "    Step 4: Calculate the auxiliary vectors $\\vec N$, $\\vec D$, and $\\vec S$\n",
    "</font>"
   ]
  },
  {
   "cell_type": "code",
   "execution_count": 7,
   "id": "c17355b0",
   "metadata": {},
   "outputs": [
    {
     "name": "stdout",
     "output_type": "stream",
     "text": [
      "N_vec = [ 8.95647933e+08  1.54381508e+09 -1.57774458e+08], N = 1791770913.5537088\n",
      "D_vec = [127344 219488 -22428], D = 254743.97277266445\n",
      "S_vec = [ 1204.8840808   -989.95764142 -2846.84610376], S = 3245.9658837556067\n"
     ]
    }
   ],
   "source": [
    "# the cross products were calculated in step 2\n",
    "N_vec = r_1*C_23_vec + r_2*C_31_vec + r_3*C_12_vec\n",
    "N = np.linalg.norm(N_vec)\n",
    "print(f\"N_vec = {N_vec}, N = {N}\")\n",
    "\n",
    "D_vec = C_12_vec + C_23_vec + C_31_vec\n",
    "D = np.linalg.norm(D_vec)\n",
    "print(f\"D_vec = {D_vec}, D = {D}\")\n",
    "\n",
    "S_vec = r_1_vec*(r_2 - r_3) + r_2_vec*(r_3 - r_1) + r_3_vec*(r_1 - r_2)\n",
    "S = np.linalg.norm(S_vec)\n",
    "print(f\"S_vec = {S_vec}, S = {S}\")"
   ]
  },
  {
   "cell_type": "markdown",
   "id": "fa434ec7",
   "metadata": {},
   "source": [
    "<font size=4, color=red>\n",
    "    Step 5: Calculate $\\vec v_2$\n",
    "</font>"
   ]
  },
  {
   "cell_type": "code",
   "execution_count": 8,
   "id": "5cd354c0",
   "metadata": {},
   "outputs": [
    {
     "name": "stdout",
     "output_type": "stream",
     "text": [
      "v_2_vec = [-2.50254483  0.72324801 -7.13125598] (km/s), v_2 = 7.592142660947977 km/s\n"
     ]
    }
   ],
   "source": [
    "v_2_vec = math.sqrt(mu/(N*D))*(np.cross(D_vec,r_2_vec)/r_2 + S_vec)\n",
    "v_2 = np.linalg.norm(v_2_vec)\n",
    "print(f\"v_2_vec = {v_2_vec} (km/s), v_2 = {v_2} km/s\")"
   ]
  },
  {
   "cell_type": "markdown",
   "id": "23613aad",
   "metadata": {},
   "source": [
    "<font size=5>\n",
    "    Problem 2\n",
    "</font>"
   ]
  },
  {
   "cell_type": "markdown",
   "id": "c4160fd9",
   "metadata": {},
   "source": [
    "(3.0) Write a program in any programming language to calculate the orbital elements [semi-major axis ($a$), eccentricity ($e$), inclination ($i$), the argument of the perigee ($\\omega$), the longitude of the ascending node ($\\Omega$), true anomaly ($\\nu$), eccentric anomaly ($E$), and the mean anomaly ($M$)], and the perigee altitude, of an object orbiting the Earth, given its state vector. Test your program with $\\vec{r}_2$ and $\\vec{v}_2$ from the previous problem."
   ]
  },
  {
   "cell_type": "markdown",
   "id": "8f91f490",
   "metadata": {},
   "source": [
    "<font size=5, color=red>\n",
    "    Solution\n",
    "</font>"
   ]
  },
  {
   "cell_type": "markdown",
   "id": "dd773d9e",
   "metadata": {},
   "source": [
    "<font size=4, color=red>\n",
    "    Angular momentum: $\\vec h = \\vec r_2 \\times \\vec v_2$\n",
    "</font>"
   ]
  },
  {
   "cell_type": "code",
   "execution_count": 9,
   "id": "a0d5dab0",
   "metadata": {},
   "outputs": [
    {
     "name": "stdout",
     "output_type": "stream",
     "text": [
      "h_vec = [26371.18920413 45681.40484388 -4621.35955383] (km^2/s), h = 52948.912478688966 km^2/s\n"
     ]
    }
   ],
   "source": [
    "h_vec = np.cross(r_2_vec, v_2_vec)\n",
    "h = np.linalg.norm(h_vec)\n",
    "print(f\"h_vec = {h_vec} (km^2/s), h = {h} km^2/s\")"
   ]
  },
  {
   "cell_type": "markdown",
   "id": "34a03bfe",
   "metadata": {},
   "source": [
    "<font size=4, color=red>\n",
    "    Eccentricity vector: \\[\\vec e = \\frac{1}{\\mu}\\left[ \\left( v_2^2-\\frac{\\mu}{r_2} \\right)\\vec r_2-\\left(\\vec r_2 \\cdot \\vec v_2 \\right )\\vec v_2 \\right]\\]\n",
    "</font>"
   ]
  },
  {
   "cell_type": "code",
   "execution_count": 10,
   "id": "eb025039",
   "metadata": {},
   "outputs": [
    {
     "name": "stdout",
     "output_type": "stream",
     "text": [
      "Eccentricity: e = 0.012738541495003797\n"
     ]
    }
   ],
   "source": [
    "e_vec = 1/mu*((v_2**2 - mu/r_2)*r_2_vec - np.dot(r_2_vec,v_2_vec)*v_2_vec)\n",
    "\n",
    "# The eccentricity is the magnitude of the eccentricity vector\n",
    "e = np.linalg.norm(e_vec)\n",
    "print(f\"Eccentricity: e = {e}\")"
   ]
  },
  {
   "cell_type": "markdown",
   "id": "f2a56522",
   "metadata": {},
   "source": [
    "<font size=4, color=red>\n",
    "    Since $p = a(1-e^2)$ and $p = h^2/\\mu$, we have that \\[a = \\frac{h^2}{\\mu}\\frac{1}{\\left(1-e^2\\right)}\\]\n",
    "</font>"
   ]
  },
  {
   "cell_type": "code",
   "execution_count": 11,
   "id": "0d6278cb",
   "metadata": {},
   "outputs": [
    {
     "name": "stdout",
     "output_type": "stream",
     "text": [
      "Semi-major axis: a = 7034.719613447953 km\n"
     ]
    }
   ],
   "source": [
    "a = h**2/mu/(1 - e**2)\n",
    "print(f\"Semi-major axis: a = {a} km\")"
   ]
  },
  {
   "cell_type": "markdown",
   "id": "5bee8800",
   "metadata": {},
   "source": [
    "<font size=4, color=red>\n",
    "    Inclination: \\[\\cos i = \\frac{h_z}{h} \\]\n",
    "</font>"
   ]
  },
  {
   "cell_type": "code",
   "execution_count": 12,
   "id": "110386c4",
   "metadata": {},
   "outputs": [
    {
     "name": "stdout",
     "output_type": "stream",
     "text": [
      "Inclination: i = 1.6581871138453306 radians or i = 95.0071232663164 deg\n"
     ]
    }
   ],
   "source": [
    "# In python, the arrays begin with the index 0.\n",
    "# Thus, the third component of the angular momentum (z-component) is h[2]\n",
    "cosi = h_vec[2]/h\n",
    "\n",
    "i = math.acos(cosi)\n",
    "print(f\"Inclination: i = {i} radians or i = {np.rad2deg(i)} deg\")"
   ]
  },
  {
   "cell_type": "markdown",
   "id": "8a2bd4d2",
   "metadata": {},
   "source": [
    "<font size=4, color=red>\n",
    "    To calculate the ramaining orbital elements, we have to define the line of nodes (intersection between the orbital plane and the reference plane - Eath's equator). Therefore, we must calculate the nodal vector $\\vec {N} = \\hat k \\times \\vec h$. This vector is not the same as in the Gibbs method, the only share the symbol.\n",
    "</font>"
   ]
  },
  {
   "cell_type": "code",
   "execution_count": 13,
   "id": "73e3b519",
   "metadata": {},
   "outputs": [
    {
     "name": "stdout",
     "output_type": "stream",
     "text": [
      "Nodal_vec = [-45681.40484388  26371.18920413      0.        ] (km^2/s), Nodal = 52746.851740649865 km^2/s\n"
     ]
    }
   ],
   "source": [
    "# Defining the direction k\n",
    "k_dir = np.array([0, 0, 1])\n",
    "\n",
    "Nodal_vec = np.cross(k_dir, h_vec)\n",
    "\n",
    "Nodal = np.linalg.norm(Nodal_vec)\n",
    "\n",
    "print(f\"Nodal_vec = {Nodal_vec} (km^2/s), Nodal = {Nodal} km^2/s\")"
   ]
  },
  {
   "cell_type": "markdown",
   "id": "cf05a114",
   "metadata": {},
   "source": [
    "<font size=4, color=red>\n",
    "    Longitude of the ascending node: \\[\\cos \\Omega = \\frac{N_x}{N}\\]\n",
    "</font>"
   ]
  },
  {
   "cell_type": "code",
   "execution_count": 14,
   "id": "e8a368dc",
   "metadata": {},
   "outputs": [
    {
     "name": "stdout",
     "output_type": "stream",
     "text": [
      "Longitude of the ascending node: Ω = 2.6180428409736622 radians or Ω = 150.0028053722306 deg\n"
     ]
    }
   ],
   "source": [
    "cosomega = Nodal_vec[0]/Nodal\n",
    "\n",
    "# Quadrant check\n",
    "if Nodal_vec[1] >= 0:\n",
    "    omega = math.acos(cosomega)\n",
    "else:\n",
    "    omega = 2*math.pi - math.acos(cosomega)\n",
    "    \n",
    "print(f\"Longitude of the ascending node: \\u03A9 = {omega} radians or \\u03A9 = {np.rad2deg(omega)} deg\")"
   ]
  },
  {
   "cell_type": "markdown",
   "id": "76526ea3",
   "metadata": {},
   "source": [
    "<font size=4, color=red>\n",
    "    Argument of the perigee: \\[\\cos \\omega = \\frac{\\vec N \\cdot \\vec e}{N e}\\]\n",
    "</font>"
   ]
  },
  {
   "cell_type": "code",
   "execution_count": 15,
   "id": "c966c011",
   "metadata": {},
   "outputs": [
    {
     "name": "stdout",
     "output_type": "stream",
     "text": [
      "Argument of the perigee: ω = 2.6475138927605473 radians or ω = 151.6913722574306 deg\n"
     ]
    }
   ],
   "source": [
    "cosargp = np.dot(Nodal_vec,e_vec)/(Nodal*e)\n",
    "\n",
    "#Quadrant check:\n",
    "\n",
    "if e_vec[2] >= 0:\n",
    "    argp = math.acos(cosargp)\n",
    "else:\n",
    "    argp = 2*math.pi - math.acos(cosargp)\n",
    "\n",
    "print(f\"Argument of the perigee: \\u03C9 = {argp} radians or \\u03C9 = {np.rad2deg(argp)} deg\")  "
   ]
  },
  {
   "cell_type": "markdown",
   "id": "3aadff81",
   "metadata": {},
   "source": [
    "<font size=4, color=red>\n",
    "    True anomaly: \\[\\cos \\nu_2 = \\frac{\\vec e \\cdot \\vec r_2}{er_2}\\]\n",
    "</font>"
   ]
  },
  {
   "cell_type": "code",
   "execution_count": 16,
   "id": "e3430cdc",
   "metadata": {},
   "outputs": [
    {
     "name": "stdout",
     "output_type": "stream",
     "text": [
      "True anomaly: ν = 0.8430970551286444 radians or ν = 48.30590297877982 deg\n"
     ]
    }
   ],
   "source": [
    "cosnu = np.dot(e_vec,r_2_vec)/(e*r_2)\n",
    "\n",
    "if np.dot(r_2_vec,v_2_vec) >= 0:\n",
    "    nu = math.acos(cosnu)\n",
    "else:\n",
    "    nu = 2*math.pi - math.acos(cosnu)\n",
    "\n",
    "print(f\"True anomaly: \\u03BD = {nu} radians or \\u03BD = {np.rad2deg(nu)} deg\")"
   ]
  },
  {
   "cell_type": "markdown",
   "id": "b2c82801",
   "metadata": {},
   "source": [
    "<font size=4, color=red>\n",
    "    Eccentric anomaly: \\[\\cos E = \\frac{e+\\cos \\nu}{1+e\\cos \\nu}.\\] The eccentric anomaly will follow true anomaly's quadrant.\n",
    "</font>"
   ]
  },
  {
   "cell_type": "code",
   "execution_count": 17,
   "id": "29cf9b01",
   "metadata": {},
   "outputs": [
    {
     "name": "stdout",
     "output_type": "stream",
     "text": [
      "Eccentric anomaly: E = 0.8336249166163553 radians or E = 47.76318941906233 deg\n"
     ]
    }
   ],
   "source": [
    "cosE = (e + math.cos(nu))/(1 + e*math.cos(nu))\n",
    "\n",
    "EA = math.acos(cosE)\n",
    "\n",
    "print(f\"Eccentric anomaly: E = {EA} radians or E = {np.rad2deg(EA)} deg\")"
   ]
  },
  {
   "cell_type": "markdown",
   "id": "1eab6389",
   "metadata": {},
   "source": [
    "<font size=4, color=red>\n",
    "    We can calculate the mean anomaly using Kepler's equation: $M = E - e \\sin E$. The mean anomaly will follow eccentric anomaly's quadrant.\n",
    "</font>"
   ]
  },
  {
   "cell_type": "code",
   "execution_count": 18,
   "id": "39c9a53d",
   "metadata": {},
   "outputs": [
    {
     "name": "stdout",
     "output_type": "stream",
     "text": [
      "Mean anomaly: M = 0.8241936458875715 radians or M = 47.22281741085774 deg\n"
     ]
    }
   ],
   "source": [
    "MA = EA - e*math.sin(EA)\n",
    "\n",
    "print(f\"Mean anomaly: M = {MA} radians or M = {np.rad2deg(MA)} deg\")"
   ]
  },
  {
   "cell_type": "markdown",
   "id": "1d6fb5c3",
   "metadata": {},
   "source": [
    "<font size=4, color=red>\n",
    "    The value of the three anomalies is close becaus this orbit has a low eccentricity.\n",
    "</font>"
   ]
  },
  {
   "cell_type": "markdown",
   "id": "92b57355",
   "metadata": {},
   "source": [
    "<font size=4, color=red>\n",
    "    Perigee altitude: $Altitude_p = a(1 - e) - R_{\\oplus}$\n",
    "</font>"
   ]
  },
  {
   "cell_type": "code",
   "execution_count": 19,
   "id": "b7f1170e",
   "metadata": {},
   "outputs": [
    {
     "name": "stdout",
     "output_type": "stream",
     "text": [
      "Perigee altitude: 566.967545746329 km.\n"
     ]
    }
   ],
   "source": [
    "alt_p = a*(1 - e) - R_e\n",
    "\n",
    "print(f\"Perigee altitude: {alt_p} km.\")"
   ]
  },
  {
   "cell_type": "markdown",
   "id": "777eaa63",
   "metadata": {},
   "source": [
    "<font size=5>\n",
    "    Problem 3\n",
    "</font>"
   ]
  },
  {
   "cell_type": "markdown",
   "id": "8f1f4ce8",
   "metadata": {},
   "source": [
    "(3.0) Write a program using any programming language to calculate the state vector ($\\vec{r}$ and $\\vec{v}$) of an object orbiting the Earth, given its orbital elements. Use the values from the previous problem to test your program."
   ]
  },
  {
   "cell_type": "markdown",
   "id": "4b5b22db",
   "metadata": {},
   "source": [
    "<font size=5, color=red>\n",
    "    Solution\n",
    "</font>"
   ]
  },
  {
   "cell_type": "markdown",
   "id": "1aeb2ae1",
   "metadata": {},
   "source": [
    "<font size=4, color=red>\n",
    "    First, we have to write the satellite's position in the perifocal frame:<br>\n",
    "    <br>\n",
    "    \\[\\vec r_F = r\\cos \\nu \\hat p + r \\sin \\nu \\hat q\\]\n",
    "    \\[\n",
    "    \\vec v_F = \\sqrt{\\mu \\over p} \\left[ -\\sin \\nu \\hat p +(e+\\cos \\nu) \\hat q\\right]\n",
    "    \\]\n",
    "    with\n",
    "    \\[r = \\frac{p}{ (1 + e\\cos \\nu)}\\]\n",
    "    and\n",
    "    \\[p = a \\left( 1- e^2 \\right) \\]\n",
    "</font>"
   ]
  },
  {
   "cell_type": "code",
   "execution_count": 20,
   "id": "78ec052e",
   "metadata": {},
   "outputs": [
    {
     "name": "stdout",
     "output_type": "stream",
     "text": [
      "r = 6974.482704831954 km\n",
      "rf_vec = 4639.101077333388, 5207.893066709823, 0.0\n",
      "vf_vec = -5.6212226542512385, 5.103183913550331, 0.0\n",
      "Check rf (not required): rf = 6974.482704831954 km. It must have the same value of r.\n"
     ]
    }
   ],
   "source": [
    "p = a*(1 - e**2)\n",
    "\n",
    "r = p/(1 + e*math.cos(nu))\n",
    "\n",
    "# The orbit lies in a plane, thus we have a 3-dimension vector with the 3rd component equal to zero\n",
    "rf_vec = np.array([r*math.cos(nu),r*math.sin(nu),0])\n",
    "\n",
    "vf_vec = np.array([-math.sqrt(mu/p)*math.sin(nu), math.sqrt(mu/p)*(e + math.cos(nu)), 0])\n",
    "\n",
    "print(f\"r = {r} km\")\n",
    "print(f\"rf_vec = {rf_vec[0]}, {rf_vec[1]}, {rf_vec[2]}\")\n",
    "print(f\"vf_vec = {vf_vec[0]}, {vf_vec[1]}, {vf_vec[2]}\")\n",
    "\n",
    "print(f\"Check rf (not required): rf = {np.linalg.norm(rf_vec)} km. It must have the same value of r.\")"
   ]
  },
  {
   "cell_type": "markdown",
   "id": "9744e966",
   "metadata": {},
   "source": [
    "<font size=4, color=red>\n",
    "    Now, we have to build the rotation matrix to transform the position vector and the velocity vector from the perifocal frame to the inertial frame:<br>\n",
    "    \\[\n",
    "    R_{11} = \\cos \\Omega \\cos \\omega - \\sin \\Omega \\sin \\omega \\cos i \\\\\n",
    "    R_{12} = -\\cos \\Omega \\sin \\omega - \\sin \\Omega \\cos \\omega \\cos i \\\\   \n",
    "    R_{13} = \\sin \\Omega \\sin i \\\\\n",
    "    R_{21} =\\sin \\Omega \\cos \\omega + \\cos \\Omega \\sin \\omega \\cos i \\\\\n",
    "    R_{22} =-\\sin \\Omega \\sin \\omega + \\cos \\Omega \\cos \\omega \\cos i \\\\\n",
    "    R_{23} =-\\cos \\Omega \\sin  i\\\\\n",
    "    R_{31} = \\sin \\omega \\sin i\\\\\n",
    "    R_{32} = \\cos \\omega \\sin i\\\\\n",
    "    R_{33} =\\cos i.\\\\\n",
    "    \\]\n",
    "\\begin{equation*}\n",
    "\\tilde R\n",
    "=\n",
    "\\begin{bmatrix}\n",
    "R_{11} & R_{12} & R_{13}\\\\\n",
    "R_{21} & R_{22} & R_{23}\\\\\n",
    "R_{31} & R_{32} & R_{33} \n",
    "\\end{bmatrix}\n",
    "\\end{equation*}\n",
    "    \n",
    "</font>"
   ]
  },
  {
   "cell_type": "code",
   "execution_count": 21,
   "id": "f771253d",
   "metadata": {},
   "outputs": [
    {
     "name": "stdout",
     "output_type": "stream",
     "text": [
      "rot_matrix = [[ 0.78316862  0.37228138  0.49804969]\n",
      " [-0.40432002 -0.30363883  0.86274491]\n",
      " [ 0.47241109 -0.8770462  -0.08727959]]\n"
     ]
    }
   ],
   "source": [
    "R_11 = math.cos(omega)*math.cos(argp) - math.sin(omega)*math.sin(argp)*math.cos(i)\n",
    "R_12 =-math.cos(omega)*math.sin(argp) - math.sin(omega)*math.cos(argp)*math.cos(i)\n",
    "R_13 = math.sin(omega)*math.sin(i)\n",
    "\n",
    "R_21 = math.sin(omega)*math.cos(argp) + math.cos(omega)*math.sin(argp)*math.cos(i)\n",
    "R_22 =-math.sin(omega)*math.sin(argp) + math.cos(omega)*math.cos(argp)*math.cos(i)\n",
    "R_23 =-math.cos(omega)*math.sin(i)\n",
    "\n",
    "R_31 = math.sin(argp)*math.sin(i)\n",
    "R_32 = math.cos(argp)*math.sin(i)\n",
    "R_33 = math.cos(i)\n",
    "\n",
    "# A matrix is a 3-dimensional array:\n",
    "rot_matrix = np.array([[R_11, R_12, R_13],[R_21, R_22, R_23],[R_31, R_32, R_33]])\n",
    "print(f\"rot_matrix = {rot_matrix}\")"
   ]
  },
  {
   "cell_type": "markdown",
   "id": "fa29caa8",
   "metadata": {},
   "source": [
    "<font size=4, color=red>\n",
    "    The vetors in the inertial frame are given by the transformation\n",
    "    \\begin{equation*}\n",
    "    \\begin{bmatrix}\n",
    "        r_i\\\\\n",
    "        r_j\\\\\n",
    "        r_k \n",
    "    \\end{bmatrix}\n",
    "    = \\tilde R\n",
    "    \\begin{bmatrix}\n",
    "        r_p\\\\\n",
    "        r_q\\\\\n",
    "        r_w \n",
    "    \\end{bmatrix},\n",
    "    \\end{equation*}\n",
    "</font>"
   ]
  },
  {
   "cell_type": "code",
   "execution_count": 22,
   "id": "fac4a2d3",
   "metadata": {},
   "outputs": [
    {
     "name": "stdout",
     "output_type": "stream",
     "text": [
      "r_vec_inertial = [ 5572. -3457. -2376.] (km)\n"
     ]
    }
   ],
   "source": [
    "r_vec_inertial = np.matmul(rot_matrix, rf_vec)\n",
    "print(f\"r_vec_inertial = {r_vec_inertial} (km)\")"
   ]
  },
  {
   "cell_type": "code",
   "execution_count": 23,
   "id": "67749212",
   "metadata": {},
   "outputs": [
    {
     "name": "stdout",
     "output_type": "stream",
     "text": [
      "v_vec_inertial = [-2.50254483  0.72324801 -7.13125598] (km/s)\n"
     ]
    }
   ],
   "source": [
    "v_vec_inertial = np.matmul(rot_matrix, vf_vec)\n",
    "print(f\"v_vec_inertial = {v_vec_inertial} (km/s)\")"
   ]
  },
  {
   "cell_type": "code",
   "execution_count": 24,
   "id": "186d1c4e",
   "metadata": {},
   "outputs": [
    {
     "name": "stdout",
     "output_type": "stream",
     "text": [
      "Check r_inertial (not required): r_inertial = 6974.482704831954 km. It must have the same value of r.\n"
     ]
    }
   ],
   "source": [
    "print(f\"Check r_inertial (not required): r_inertial = {np.linalg.norm(r_vec_inertial)} km. It must have the same value of r.\")"
   ]
  },
  {
   "cell_type": "markdown",
   "id": "c58a5394",
   "metadata": {},
   "source": [
    "<font size=5>\n",
    "    Problem 4\n",
    "</font>"
   ]
  },
  {
   "cell_type": "markdown",
   "id": "f9bae5c6",
   "metadata": {},
   "source": [
    "(2.0) Write a program (any programming language except Matlab) to solve Kepler's equation to calculate (numerically) the eccentric anomaly given the mean anomaly. Display at least two solutions, i.e., run your program twice with different initial mean anomalies, one less than $\\pi$ and the other greater than $\\pi$."
   ]
  },
  {
   "cell_type": "markdown",
   "id": "638336fc",
   "metadata": {},
   "source": [
    "<font size=5, color=red>\n",
    "    Solution\n",
    "</font>"
   ]
  },
  {
   "cell_type": "markdown",
   "id": "1379d3f5",
   "metadata": {},
   "source": [
    "<font size=4, color=red>\n",
    "    We have to solve the Kepler's equation using the Newton-Raphson method. Thus, \n",
    "    \\[ f(E) = E - e \\sin E - M_e\\]\n",
    "    \\[ f^\\prime(E) = 1 - e \\cos E \\]\n",
    "    I will implement the Newton method in the simplest way possible. Thus,\n",
    "    \\[E = E_0 - \\frac{f(E_)}{f^\\prime(E_0)}.\\]\n",
    "    The value of $E_0$ is updated in each iteration. If the ratio $\\frac{f(E_)}{f^\\prime(E_0)} \\le 10^{-6}$, we stop. \n",
    "    \n",
    "</font>"
   ]
  },
  {
   "cell_type": "code",
   "execution_count": 25,
   "id": "7caa5822",
   "metadata": {},
   "outputs": [
    {
     "name": "stdout",
     "output_type": "stream",
     "text": [
      "iteration no. 0, |ratio| = 0.25683560024706187\n",
      "iteration no. 1, |ratio| = 0.015648641528600724\n",
      "iteration no. 2, |ratio| = 5.267530331598417e-05\n",
      "iteration no. 3, |ratio| = 6.015962013381341e-10\n",
      "Eccentric anomaly E = 126.7342885408322\n"
     ]
    }
   ],
   "source": [
    "# Initial values\n",
    "e = 0.8 # initial eccentricity\n",
    "M_e = np.deg2rad(90) #60 degrees\n",
    "\n",
    "nmax = 1000 # maximum number of iterations\n",
    "\n",
    "# Guess for the eccentric anomaly\n",
    "if M_e < math.pi:\n",
    "    E_0 = M_e + e/2\n",
    "elif M_e > math.pi:\n",
    "    E_0 = M_e - e/2\n",
    "else:\n",
    "    E_0 = M_e\n",
    "\n",
    "for j in range(0, nmax):\n",
    "    ratio = (E_0 - e*math.sin(E_0) - M_e)/(1 - e*math.cos(E_0))\n",
    "    \n",
    "    print(f\"iteration no. {j}, |ratio| = {np.abs(ratio)}\")\n",
    "    \n",
    "    if np.abs(ratio) <= 1.0e-6:\n",
    "        break\n",
    "    \n",
    "    E = E_0 - ratio\n",
    "    \n",
    "    E_0 = E #update the value of E_0\n",
    "    \n",
    "E = np.rad2deg(E_0)\n",
    "\n",
    "print(f\"Eccentric anomaly E = {E}\")\n",
    "    "
   ]
  },
  {
   "cell_type": "code",
   "execution_count": null,
   "id": "48b96f1e",
   "metadata": {},
   "outputs": [],
   "source": []
  }
 ],
 "metadata": {
  "kernelspec": {
   "display_name": "Python 3 (ipykernel)",
   "language": "python",
   "name": "python3"
  },
  "language_info": {
   "codemirror_mode": {
    "name": "ipython",
    "version": 3
   },
   "file_extension": ".py",
   "mimetype": "text/x-python",
   "name": "python",
   "nbconvert_exporter": "python",
   "pygments_lexer": "ipython3",
   "version": "3.10.7"
  }
 },
 "nbformat": 4,
 "nbformat_minor": 5
}
