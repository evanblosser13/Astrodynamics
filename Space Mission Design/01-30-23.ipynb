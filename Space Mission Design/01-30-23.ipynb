{
 "cells": [
  {
   "cell_type": "markdown",
   "id": "08eeb560",
   "metadata": {},
   "source": [
    "# AME 4593/5593 - 01/30/2023"
   ]
  },
  {
   "cell_type": "code",
   "execution_count": 5,
   "id": "6cd516a0",
   "metadata": {},
   "outputs": [
    {
     "name": "stdout",
     "output_type": "stream",
     "text": [
      "mu = 398600.4418 km^3/s^2\n",
      "R_e = 6378.14 km\n",
      "1 au = 149597870.7 km\n"
     ]
    }
   ],
   "source": [
    "import math\n",
    "\n",
    "# Gravitational parameter\n",
    "mu = 3.986004418e5 # km^3/s^2\n",
    "\n",
    "# Equatorial radius of the Earth\n",
    "R_e = 6378.14 # km\n",
    "\n",
    "# Astronomical units\n",
    "au = 149597870.700 # km\n",
    "\n",
    "print(f\"mu = {mu} km^3/s^2\")\n",
    "print(f\"R_e = {R_e} km\")\n",
    "print(f\"1 au = {au} km\")"
   ]
  },
  {
   "cell_type": "markdown",
   "id": "ae36d37a",
   "metadata": {},
   "source": [
    "## Bate - Example problem (pag. 154)"
   ]
  },
  {
   "cell_type": "code",
   "execution_count": 2,
   "id": "34043e04",
   "metadata": {},
   "outputs": [
    {
     "name": "stdout",
     "output_type": "stream",
     "text": [
      "a = 1.5 au\n",
      "e = 0.6666666666666666\n",
      "p = 0.8333333333333334 au\n",
      "r_2 = 1.0 au\n"
     ]
    }
   ],
   "source": [
    "# Elliptical orbit\n",
    "\n",
    "r_p = 0.5 # au\n",
    "r_a = 2.5 # au\n",
    "\n",
    "a = (r_p + r_a)/2  # au\n",
    "print(f\"a = {a} au\")\n",
    "\n",
    "e = (r_a - r_p)/(r_a + r_p)\n",
    "print(f\"e = {e}\")\n",
    "\n",
    "p = a*(1-e**2)\n",
    "print(f\"p = {p} au\")\n",
    "\n",
    "r_2 = 1.0 # au\n",
    "print(f\"r_2 = {r_2} au\")"
   ]
  },
  {
   "cell_type": "code",
   "execution_count": 3,
   "id": "216a5c2e",
   "metadata": {},
   "outputs": [
    {
     "name": "stdout",
     "output_type": "stream",
     "text": [
      "cos(nu) = -0.24999999999999994\n",
      "E_2 = 1.0471975511965976 radians\n"
     ]
    }
   ],
   "source": [
    "# cosine of the true anomaly\n",
    "cosnu_2 = (p-r_2)/(r_2*e)\n",
    "print(f\"cos(nu) = {cosnu_2}\")\n",
    "\n",
    "# Eccentric anomaly\n",
    "E_2 = math.acos((e + cosnu_2)/(1 + e*cosnu_2))\n",
    "print(f\"E_2 = {E_2} radians\")"
   ]
  },
  {
   "cell_type": "markdown",
   "id": "80c1f547",
   "metadata": {},
   "source": [
    "\\begin{equation*}\n",
    "    t_2-T = \\sqrt{\\frac{a^3}{\\mu}}\\left[E_2 - e\\sin E_2 \\right]\n",
    "\\end{equation*}"
   ]
  },
  {
   "cell_type": "code",
   "execution_count": 10,
   "id": "851a0872",
   "metadata": {},
   "outputs": [
    {
     "name": "stdout",
     "output_type": "stream",
     "text": [
      "TOF = 1.7263291469259494 TU_sun\n",
      "TOF = 100.35669229824622 days\n"
     ]
    }
   ],
   "source": [
    "# TOF = 2(t_2 - T)\n",
    "TOF = 2*math.sqrt((a)**3/1.0)*(E_2 - e*math.sin(E_2)) # mu = 1 in canonical units\n",
    "print(f\"TOF = {TOF} TU_sun\")\n",
    "print(f\"TOF = {TOF*58.133} days\")"
   ]
  },
  {
   "cell_type": "code",
   "execution_count": null,
   "id": "940ae7cd",
   "metadata": {},
   "outputs": [],
   "source": []
  }
 ],
 "metadata": {
  "kernelspec": {
   "display_name": "Python 3 (ipykernel)",
   "language": "python",
   "name": "python3"
  },
  "language_info": {
   "codemirror_mode": {
    "name": "ipython",
    "version": 3
   },
   "file_extension": ".py",
   "mimetype": "text/x-python",
   "name": "python",
   "nbconvert_exporter": "python",
   "pygments_lexer": "ipython3",
   "version": "3.10.7"
  }
 },
 "nbformat": 4,
 "nbformat_minor": 5
}
