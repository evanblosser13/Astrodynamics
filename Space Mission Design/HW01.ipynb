{
 "cells": [
  {
   "cell_type": "markdown",
   "id": "08eeb560",
   "metadata": {},
   "source": [
    "# AME 4593/5593 - HW01 Solutions"
   ]
  },
  {
   "cell_type": "code",
   "execution_count": 1,
   "id": "2cffa230",
   "metadata": {},
   "outputs": [],
   "source": [
    "import math"
   ]
  },
  {
   "cell_type": "markdown",
   "id": "4940ef9e",
   "metadata": {},
   "source": [
    "## Problem 1\n",
    "The equation of a body in Earth orbit is\n",
    "\\begin{equation*}\n",
    "r = \\frac{1.5}{1+0.5\\cos \\nu}~\\text{DU}.\n",
    "\\end{equation*}"
   ]
  },
  {
   "cell_type": "markdown",
   "id": "330ab52a",
   "metadata": {},
   "source": [
    "a) (1.0) Find the eccentricity and the semi-major axis of the body's orbit."
   ]
  },
  {
   "cell_type": "markdown",
   "id": "7ab42c50",
   "metadata": {},
   "source": [
    "From the polar equation o a conic section\n",
    "\\begin{equation*}\n",
    "r = \\frac{p}{1+e\\cos \\nu}\n",
    "\\end{equation*}\n",
    "and from\n",
    "\\begin{equation*}\n",
    "p = a\\left(1-e^2\\right),\n",
    "\\end{equation*}\n",
    "we have $\\boxed{e = 0.5}$ and $\\boxed{a = 2~\\text{DU}}$."
   ]
  },
  {
   "cell_type": "markdown",
   "id": "9b3eae48",
   "metadata": {},
   "source": [
    "b) (1.0) Calculate the time of flight from one end of the minor axis out to apogee."
   ]
  },
  {
   "cell_type": "markdown",
   "id": "0f7db08f",
   "metadata": {},
   "source": [
    "The time of flight between two arbitrary points is given by:\n",
    "\\begin{equation*}\n",
    "TOF = t-t_0 = \\sqrt{\\frac{a^3}{\\mu}}\\left[ 2k \\pi +(E-e\\sin E)-(E_0-e\\sin E_0) \\right],\n",
    "\\end{equation*}\n",
    "where E is the eccentric anomaly. Since to go from the end of the minor axis out to the apogee, the satellite doesn't cross the perigee, $k=0$.Then we have:\n",
    "\\begin{equation*}\n",
    "TOF = t-t_0 = \\sqrt{\\frac{a^3}{\\mu}}\\left[(E-e\\sin E)-(E_0-e\\sin E_0) \\right].\n",
    "\\end{equation*}\n",
    "At the end of the minor axis, $E_0 = \\pi/2$, and at the apogee, $E = \\pi$. Additionally, $\\mu = 1~\\text{DU}^3/\\text{TU}^2$ in canonical units. Thus,"
   ]
  },
  {
   "cell_type": "code",
   "execution_count": 2,
   "id": "5cd354c0",
   "metadata": {},
   "outputs": [],
   "source": [
    "k = 0\n",
    "mu = 1\n",
    "E_0 = math.pi/2\n",
    "E = math.pi\n",
    "e = 0.5\n",
    "a = 2"
   ]
  },
  {
   "cell_type": "code",
   "execution_count": 3,
   "id": "b0de7f15",
   "metadata": {},
   "outputs": [
    {
     "name": "stdout",
     "output_type": "stream",
     "text": [
      "genTOF = 5.857096500531462 TU\n"
     ]
    }
   ],
   "source": [
    "genTOF = math.sqrt(a**3/mu)*(2*k*math.pi+(E-e*math.sin(E))-(E_0-e*math.sin(E_0)))\n",
    "print(f\"genTOF = {genTOF} TU\")"
   ]
  },
  {
   "cell_type": "markdown",
   "id": "c4160fd9",
   "metadata": {},
   "source": [
    "## Problem 2\n",
    "(2.0) A satellite is in earth orbit for which the perigee height is 200 km and the apogee height is 600 km. Find the time interval during which the satellite remains above an altitude of 400 km."
   ]
  },
  {
   "cell_type": "markdown",
   "id": "40379cbe",
   "metadata": {},
   "source": [
    "<img src=\"HW01-Fig01.png\" \n",
    "     align=\"left\" \n",
    "     width=\"400\" />"
   ]
  },
  {
   "cell_type": "code",
   "execution_count": 4,
   "id": "6cd516a0",
   "metadata": {},
   "outputs": [
    {
     "name": "stdout",
     "output_type": "stream",
     "text": [
      "mu = 398600.4418 km^3/s^2\n",
      "R_e = 6378.14 km\n"
     ]
    }
   ],
   "source": [
    "# Gravitational parameter\n",
    "mu = 3.986004418e5 # km^3/s^2\n",
    "\n",
    "# Equatorial radius of the Earth\n",
    "R_e = 6378.14 # km\n",
    "\n",
    "print(f\"mu = {mu} km^3/s^2\")\n",
    "print(f\"R_e = {R_e} km\")"
   ]
  },
  {
   "cell_type": "code",
   "execution_count": 5,
   "id": "34043e04",
   "metadata": {},
   "outputs": [
    {
     "name": "stdout",
     "output_type": "stream",
     "text": [
      "a = 6778.14 km\n",
      "e = 0.029506619810154407\n",
      "p = 6772.2386760379695 km\n",
      "Period = 92.56046597165944 min\n"
     ]
    }
   ],
   "source": [
    "r_p = 200 + R_e\n",
    "r_a = 600 + R_e\n",
    "\n",
    "a = (r_p + r_a)/2\n",
    "print(f\"a = {a} km\")\n",
    "\n",
    "e = (r_a - r_p)/(r_a + r_p)\n",
    "print(f\"e = {e}\")\n",
    "\n",
    "p = a*(1-e**2)\n",
    "print(f\"p = {p} km\")\n",
    "\n",
    "P = 2*math.pi*math.sqrt(a**3/mu)\n",
    "print(f\"Period = {P/60} min\")"
   ]
  },
  {
   "cell_type": "code",
   "execution_count": 6,
   "id": "216a5c2e",
   "metadata": {},
   "outputs": [
    {
     "name": "stdout",
     "output_type": "stream",
     "text": [
      "r_1 = 6778.14 km\n",
      "cos(nu_0) = -0.029506619810154008\n",
      "E_0 = 1.5707963267948961 radians\n",
      "E = 4.71238898038469 radians\n"
     ]
    }
   ],
   "source": [
    "r_1 = 400 + R_e # position at t_0\n",
    "print(f\"r_1 = {r_1} km\")\n",
    "\n",
    "# cosine of the true anomaly at t_0\n",
    "cosnu_0 = (p-r_1)/(r_1*e)\n",
    "print(f\"cos(nu_0) = {cosnu_0}\")\n",
    "\n",
    "# Eccentric anomaly\n",
    "E_0 = math.acos((e + cosnu_0)/(1 + e*cosnu_0))\n",
    "print(f\"E_0 = {E_0} radians\")\n",
    "\n",
    "E = 2*math.pi - E_0\n",
    "print(f\"E = {E} radians\")"
   ]
  },
  {
   "cell_type": "markdown",
   "id": "80c1f547",
   "metadata": {},
   "source": [
    "\\begin{equation*}\n",
    "    TOF = t-t_0 = \\sqrt{\\frac{a^3}{\\mu}}\\left[ 2k \\pi +(E-e\\sin E)-(E_0-e\\sin E_0) \\right],\n",
    "\\end{equation*}"
   ]
  },
  {
   "cell_type": "code",
   "execution_count": 7,
   "id": "851a0872",
   "metadata": {},
   "outputs": [
    {
     "name": "stdout",
     "output_type": "stream",
     "text": [
      "TOF = 2828.9750346403303 s\n",
      "TOF = 47.14958391067217 min\n"
     ]
    }
   ],
   "source": [
    "k = 0 #it doesn't cross the periasis\n",
    "# TOF\n",
    "genTOF = math.sqrt(a**3/mu)*(2*k*math.pi+(E-e*math.sin(E))-(E_0-e*math.sin(E_0)))\n",
    "print(f\"TOF = {genTOF} s\")\n",
    "print(f\"TOF = {genTOF/60} min\")"
   ]
  },
  {
   "cell_type": "markdown",
   "id": "2af41111",
   "metadata": {},
   "source": [
    "## Problem 3-a"
   ]
  },
  {
   "cell_type": "markdown",
   "id": "b32c2ea6",
   "metadata": {},
   "source": [
    "### Orbit 1"
   ]
  },
  {
   "cell_type": "code",
   "execution_count": 8,
   "id": "5e06550b",
   "metadata": {},
   "outputs": [
    {
     "name": "stdout",
     "output_type": "stream",
     "text": [
      "r_1 = 9378.14 km\n"
     ]
    }
   ],
   "source": [
    "# Initial radius\n",
    "r_1 = 3000.0 + R_e\n",
    "print(f\"r_1 = {r_1} km\")"
   ]
  },
  {
   "cell_type": "code",
   "execution_count": 9,
   "id": "a214647a",
   "metadata": {},
   "outputs": [
    {
     "name": "stdout",
     "output_type": "stream",
     "text": [
      "v_1 = 6.5194435911910595 km/s\n"
     ]
    }
   ],
   "source": [
    "v_1 = math.sqrt(mu/r_1)\n",
    "print(f\"v_1 = {v_1} km/s\")"
   ]
  },
  {
   "cell_type": "markdown",
   "id": "0b739738",
   "metadata": {},
   "source": [
    "### Orbit 2"
   ]
  },
  {
   "cell_type": "code",
   "execution_count": 10,
   "id": "ffca09f4",
   "metadata": {},
   "outputs": [
    {
     "name": "stdout",
     "output_type": "stream",
     "text": [
      "r_2 = 12378.14 km\n"
     ]
    }
   ],
   "source": [
    "# Final radius\n",
    "r_2 = 6000.0 + R_e\n",
    "print(f\"r_2 = {r_2} km\")"
   ]
  },
  {
   "cell_type": "code",
   "execution_count": 11,
   "id": "1d3ce663",
   "metadata": {},
   "outputs": [
    {
     "name": "stdout",
     "output_type": "stream",
     "text": [
      "v_2 = 5.674677600433558 km/s\n"
     ]
    }
   ],
   "source": [
    "v_2 = math.sqrt(mu/r_2)\n",
    "print(f\"v_2 = {v_2} km/s\")"
   ]
  },
  {
   "cell_type": "markdown",
   "id": "a26ca894",
   "metadata": {},
   "source": [
    "### Transfer orbit"
   ]
  },
  {
   "cell_type": "code",
   "execution_count": 12,
   "id": "f296a4ff",
   "metadata": {},
   "outputs": [
    {
     "name": "stdout",
     "output_type": "stream",
     "text": [
      "a_t = 10878.14 km\n",
      "E_t = -18.321167120481995 km^2/s^2\n",
      "v_p = 6.954419834643316 km/s\n",
      "v_a = 5.268927547116276 km/s\n"
     ]
    }
   ],
   "source": [
    "r_p = r_1 # Perigee radius\n",
    "r_a = r_2 # Apogee radius\n",
    "\n",
    "# Semi-major axis\n",
    "a_t = (r_p + r_a)/2.0\n",
    "print(f\"a_t = {a_t} km\")\n",
    "\n",
    "# Energy\n",
    "E_t = -mu/(2*a_t)\n",
    "print(f\"E_t = {E_t} km^2/s^2\")\n",
    "\n",
    "# Velocity at perigee\n",
    "v_p = math.sqrt(2.0*(mu/r_p + E_t))\n",
    "print(f\"v_p = {v_p} km/s\")\n",
    "\n",
    "# Velocity at apogee\n",
    "v_a = math.sqrt(2.0*(mu/r_a + E_t))\n",
    "print(f\"v_a = {v_a} km/s\")"
   ]
  },
  {
   "cell_type": "markdown",
   "id": "347e897f",
   "metadata": {},
   "source": [
    "### Transfer $\\Delta v$"
   ]
  },
  {
   "cell_type": "code",
   "execution_count": 13,
   "id": "988d9799",
   "metadata": {},
   "outputs": [
    {
     "name": "stdout",
     "output_type": "stream",
     "text": [
      "dv_1 = 0.4349762434522564 km/s\n",
      "dv_2 = 0.40575005331728153 km/s\n",
      "dv_t = 0.84073 km/s\n"
     ]
    }
   ],
   "source": [
    "# First delta-v\n",
    "dv_1 = v_p - v_1\n",
    "print(f\"dv_1 = {dv_1} km/s\")\n",
    "\n",
    "# Second delta-v\n",
    "dv_2 = v_2 - v_a\n",
    "print(f\"dv_2 = {dv_2} km/s\")\n",
    "\n",
    "# Total delta-v for thr Hohmann transfer\n",
    "dv_t = abs(dv_1) + abs(dv_2)\n",
    "print(f\"dv_t = {dv_t:7.5} km/s\")"
   ]
  },
  {
   "cell_type": "markdown",
   "id": "05dee972",
   "metadata": {},
   "source": [
    "### Time of Flight (TOF)"
   ]
  },
  {
   "cell_type": "code",
   "execution_count": 14,
   "id": "af0bd2c6",
   "metadata": {},
   "outputs": [
    {
     "name": "stdout",
     "output_type": "stream",
     "text": [
      "TOF (Hohmann) = 5645.636998348809 s or 1.568232499541336 hours\n"
     ]
    }
   ],
   "source": [
    "TOF_ho = math.pi*math.sqrt(a_t**3/mu)\n",
    "print(f\"TOF (Hohmann) = {TOF_ho} s or {TOF_ho/3600} hours\")"
   ]
  },
  {
   "cell_type": "markdown",
   "id": "c5a25cea",
   "metadata": {},
   "source": [
    "## Problem 3-b"
   ]
  },
  {
   "cell_type": "markdown",
   "id": "30ffc851",
   "metadata": {},
   "source": [
    "### Initial orbit (Orbit 1)"
   ]
  },
  {
   "cell_type": "code",
   "execution_count": 15,
   "id": "e3d8a4ce",
   "metadata": {},
   "outputs": [
    {
     "name": "stdout",
     "output_type": "stream",
     "text": [
      "r_1 = 6578.14 km\n",
      "v_1 = 7.784259973535914 km/s\n"
     ]
    }
   ],
   "source": [
    "# Initial radius (km)\n",
    "r_1 = 200 + R_e #7000\n",
    "print(f\"r_1 = {r_1} km\")\n",
    "\n",
    "# Velocity for the circular orbit 1 (km/s)\n",
    "v_1 = math.sqrt(mu/r_1)\n",
    "print(f\"v_1 = {v_1} km/s\")"
   ]
  },
  {
   "cell_type": "markdown",
   "id": "b3b48770",
   "metadata": {},
   "source": [
    "### Final Orbit (Orbit 2)"
   ]
  },
  {
   "cell_type": "code",
   "execution_count": 16,
   "id": "196735f3",
   "metadata": {},
   "outputs": [
    {
     "name": "stdout",
     "output_type": "stream",
     "text": [
      "r_2 = 78937.64 km\n",
      "v_2 = 2.2471228649225616 km/s\n"
     ]
    }
   ],
   "source": [
    "# Initial radius (km)  #72559.50\n",
    "r_2 = 72559.50 + R_e #210000\n",
    "print(f\"r_2 = {r_2} km\")\n",
    "\n",
    "# Velocity for the circular orbit 1 (km/s)\n",
    "v_2 = math.sqrt(mu/r_2)\n",
    "print(f\"v_2 = {v_2} km/s\")"
   ]
  },
  {
   "cell_type": "markdown",
   "id": "9adc3902",
   "metadata": {},
   "source": [
    "### Bi-elliptic transfer (Orbits $t_1$ and $t_2$) for a single value of $e = 0.846154$. With this value of eccentricity, this is actually a Hohmann transfer."
   ]
  },
  {
   "cell_type": "code",
   "execution_count": 17,
   "id": "596a9790",
   "metadata": {},
   "outputs": [
    {
     "name": "stdout",
     "output_type": "stream",
     "text": [
      "Orbit t_1\n",
      "rp_t1 = 6578.14 km\n",
      "ra_t1 = 78937.7655159055 km\n",
      "a_t1 = 42757.95275795275 km\n",
      "e_t1 = 0.846154\n",
      "E_t1 = -4.661126364683847 km^2/s^2\n",
      "vp_t1 = 10.57672699571181 km/s\n",
      "va_t1 = 0.8813929614659886 km/s\n",
      "\n",
      "Orbit t_2\n",
      "rp_t2 = 78937.64 km\n",
      "ra_t2 = 78937.7655159055 km\n",
      "a_t2 = 78937.70275795275 km\n",
      "e_t2 = 7.950314052385987e-07\n",
      "E_t2 = -2.5247785777490344 km^2/s^2\n",
      "vp_t2 = 2.2471237581890087 km/s\n",
      "va_t2 = 2.247120185123931 km/s\n",
      "\n",
      "dv1 = 2.792467022175897 km/s\n",
      "dv2 = 1.3657272236579425 km/s\n",
      "dv3 = -8.932664470329144e-07 km/s\n",
      "\n",
      "Total delta-v (BI) = 4.158195139100286 km/s\n",
      "\n"
     ]
    }
   ],
   "source": [
    "### First transfer orbit (Orbit t_1) ###\n",
    "print(f\"Orbit t_1\")\n",
    "\n",
    "# Perigee radius\n",
    "rp_t1 = r_1\n",
    "\n",
    "e_t1 = 0.846154 #0.935484\n",
    "\n",
    "# The apogee radius will be calculated as a function of the eccentricity\n",
    "ra_t1 = rp_t1*(1 + e_t1)/(1 - e_t1)\n",
    "\n",
    "print(f\"rp_t1 = {rp_t1} km\")\n",
    "print(f\"ra_t1 = {ra_t1} km\")\n",
    "\n",
    "# semi-major axis\n",
    "a_t1 = (rp_t1 + ra_t1)/2\n",
    "\n",
    "print(f\"a_t1 = {a_t1} km\")\n",
    "print(f\"e_t1 = {e_t1}\")\n",
    "\n",
    "# Energy\n",
    "E_t1 = -mu/(2*a_t1)\n",
    "print(f\"E_t1 = {E_t1} km^2/s^2\")\n",
    "\n",
    "# Velocity at the perigee\n",
    "vp_t1 = math.sqrt(2.0*(mu/rp_t1 + E_t1))\n",
    "print(f\"vp_t1 = {vp_t1} km/s\")\n",
    "\n",
    "# Velocity at the apogee\n",
    "va_t1 = math.sqrt(2.0*(mu/ra_t1 + E_t1))\n",
    "print(f\"va_t1 = {va_t1} km/s\\n\")\n",
    "\n",
    "# Period of the first transfer ellipse:\n",
    "P_t1 = 2*math.pi*math.sqrt(a_t1**3/mu)\n",
    "\n",
    "\n",
    "    ### Second transfer orbit (Orbit t_2) ###\n",
    "print(f\"Orbit t_2\")\n",
    "\n",
    "rp_t2 = r_2\n",
    "ra_t2 = ra_t1\n",
    "\n",
    "print(f\"rp_t2 = {rp_t2} km\")\n",
    "print(f\"ra_t2 = {ra_t2} km\")\n",
    "\n",
    "a_t2 = (rp_t2 + ra_t2)/2\n",
    "e_t2 = (ra_t2 - rp_t2)/(ra_t2 + rp_t2)\n",
    "\n",
    "print(f\"a_t2 = {a_t2} km\")\n",
    "print(f\"e_t2 = {e_t2}\")\n",
    "\n",
    "# Energy\n",
    "E_t2 = -mu/(2*a_t2)\n",
    "print(f\"E_t2 = {E_t2} km^2/s^2\")\n",
    "\n",
    "# Velocity at the perigee\n",
    "vp_t2 = math.sqrt(2.0*(mu/rp_t2 + E_t2))\n",
    "print(f\"vp_t2 = {vp_t2} km/s\")\n",
    "\n",
    "# Velocity at the apogee\n",
    "va_t2 = math.sqrt(2.0*(mu/ra_t2 + E_t2))\n",
    "print(f\"va_t2 = {va_t2} km/s\\n\")\n",
    "\n",
    "# Period of the second transfer ellipse:\n",
    "P_t2 = 2*math.pi*math.sqrt(a_t2**3/mu)\n",
    "\n",
    "    ### Delta-v calculation ###\n",
    "\n",
    "dv1 = vp_t1 - v_1\n",
    "dv2 = va_t2 - va_t1\n",
    "dv3 = v_2 - vp_t2\n",
    "\n",
    "# total delta-v\n",
    "dvth = abs(dv1) + abs(dv2) + abs(dv3)\n",
    "\n",
    "print(f\"dv1 = {dv1} km/s\")\n",
    "print(f\"dv2 = {dv2} km/s\")\n",
    "print(f\"dv3 = {dv3} km/s\\n\")\n",
    "print(f\"Total delta-v (BI) = {dvth} km/s\\n\")\n"
   ]
  },
  {
   "cell_type": "markdown",
   "id": "d1a9b532",
   "metadata": {},
   "source": [
    "### Bi-elliptic transfer (Orbits $t_1$ and $t_2$). Finding minimum $\\Delta v$"
   ]
  },
  {
   "cell_type": "code",
   "execution_count": 18,
   "id": "1d3d8855",
   "metadata": {},
   "outputs": [
    {
     "name": "stdout",
     "output_type": "stream",
     "text": [
      "e = 0.99999, ra_t1 = 1315621421.8659875 km, delta-v = 4.155147592676302 km/s\n"
     ]
    }
   ],
   "source": [
    "import numpy as np\n",
    "\n",
    "### First transfer orbit (Orbit t_1) ###\n",
    "\n",
    "# Perigee radius\n",
    "rp_t1 = r_1\n",
    "\n",
    "# Opening a file to save the results\n",
    "\n",
    "file = open('bi-elliptical.dat', 'w')\n",
    "\n",
    "min_dv = 1000000\n",
    "\n",
    "# The eccentricity will vary\n",
    "\n",
    "for e_t1 in np.arange(0, 1, 0.00001):\n",
    "\n",
    "    # The apogee radius will be calculated as a function of the eccentricity\n",
    "    ra_t1 = rp_t1*(1 + e_t1)/(1 - e_t1)\n",
    "    \n",
    "    # Avoiding apogee radii inside r_2 or equal to r_2\n",
    "    if ra_t1 <= r_2:\n",
    "        continue\n",
    "\n",
    "    # semi-major axis\n",
    "    a_t1 = (rp_t1 + ra_t1)/2\n",
    "\n",
    "    # Energy\n",
    "    E_t1 = -mu/(2*a_t1)\n",
    "\n",
    "    # Velocity at the perigee\n",
    "    vp_t1 = math.sqrt(2.0*(mu/rp_t1 + E_t1))\n",
    "\n",
    "    # Velocity at the apogee\n",
    "    va_t1 = math.sqrt(2.0*(mu/ra_t1 + E_t1))\n",
    "\n",
    "    # Period of the first transfer ellipse:\n",
    "    P_t1 = 2*math.pi*math.sqrt(a_t1**3/mu)\n",
    "\n",
    "\n",
    "    ### Second transfer orbit (Orbit t_2) ###\n",
    "\n",
    "    rp_t2 = r_2\n",
    "    ra_t2 = ra_t1\n",
    "\n",
    "    a_t2 = (rp_t2 + ra_t2)/2\n",
    "    e_t2 = (ra_t2 - rp_t2)/(ra_t2 + rp_t2)\n",
    "\n",
    "    # Energy\n",
    "    E_t2 = -mu/(2*a_t2)\n",
    "\n",
    "    # Velocity at the perigee\n",
    "    vp_t2 = math.sqrt(2.0*(mu/rp_t2 + E_t2))\n",
    "\n",
    "    # Velocity at the apogee\n",
    "    va_t2 = math.sqrt(2.0*(mu/ra_t2 + E_t2))\n",
    "\n",
    "    # Period of the second transfer ellipse:\n",
    "    P_t2 = 2*math.pi*math.sqrt(a_t2**3/mu)\n",
    "\n",
    "    ### Delta-v calculation ###\n",
    "\n",
    "    dv1 = vp_t1 - v_1\n",
    "    dv2 = va_t2 - va_t1\n",
    "    dv3 = v_2 - vp_t2\n",
    "\n",
    "    # total delta-v\n",
    "    dvt = abs(dv1) + abs(dv2) + abs(dv3)\n",
    "\n",
    "    if dvt < min_dv:\n",
    "        min_dv = dvt\n",
    "        \n",
    "    file.write(f\"{e_t1} {ra_t1-r_2} {ra_t1} {dvt}\\n\")\n",
    "          \n",
    "file.close()\n",
    "\n",
    "print(f\"e = {e_t1}, ra_t1 = {ra_t1} km, delta-v = {dvt} km/s\")"
   ]
  },
  {
   "cell_type": "markdown",
   "id": "262d3327",
   "metadata": {},
   "source": [
    "### Total $\\Delta v$ as a function of the initial eccentricity. "
   ]
  },
  {
   "cell_type": "code",
   "execution_count": 19,
   "id": "76851826",
   "metadata": {},
   "outputs": [
    {
     "data": {
      "image/png": "[encoded data removed]",
      "text/plain": [
       "<Figure size 640x480 with 1 Axes>"
      ]
     },
     "metadata": {},
     "output_type": "display_data"
    }
   ],
   "source": [
    "import matplotlib.pyplot as plt\n",
    "  \n",
    "x = []\n",
    "y = []\n",
    "for line in open('bi-elliptical.dat', 'r'):\n",
    "    values = [float(n) for n in line.split()]\n",
    "    x.append(values[0])\n",
    "    y.append(values[3])\n",
    "      \n",
    "plt.title('Bi-elliptical Transfer', fontsize=18)\n",
    "plt.plot(x, y)\n",
    "\n",
    "plt.xlabel('Eccentricity', fontsize=16)\n",
    "# plt.xlim([0.82, 1.02])\n",
    "plt.xticks(fontsize=14)\n",
    "\n",
    "plt.ylabel('Total $\\Delta v$ (km/s)', fontsize=16)\n",
    "plt.ylim([4.15, 4.20])\n",
    "plt.yticks(fontsize=14)\n",
    "  \n",
    "plt.show()"
   ]
  },
  {
   "cell_type": "markdown",
   "id": "8b8c0e4e",
   "metadata": {},
   "source": [
    "### Bi-elliptic transfer (Orbits $t_1$ and $t_2$), considering parabolic orbits (bi-parabolic)\n",
    "\n",
    "The eccentricity of a parabolic orbit is $e = 0$, and the semi-major axis is $a = \\infty$. Consequently, the energy for the first and second transfer orbits will be $E = 0$. In this case, the velocity of orbit $t_1$ at its perigee will be the escape velocity at this point. The same for orbit $t_2$."
   ]
  },
  {
   "cell_type": "code",
   "execution_count": 20,
   "id": "f8cc226d",
   "metadata": {},
   "outputs": [
    {
     "name": "stdout",
     "output_type": "stream",
     "text": [
      "Orbit t_1\n",
      "vp_t1 = 11.008606027612519 km/s\n",
      "Orbit t_2\n",
      "vp_t2 = 3.1779116318921714 km/s\n",
      "dv1 = 3.224346054076605 km/s\n",
      "dv2 = -0.9307887669696098 km/s\n",
      "\n",
      "Total delta-v (parabolic) = 4.1551348210462145 km/s\n",
      "\n",
      "Hohmann transfer - bi-parabolic = 0.003060318054071587 km/s\n",
      "\n"
     ]
    }
   ],
   "source": [
    "### First transfer orbit (Orbit t_1) ###\n",
    "print(f\"Orbit t_1\")\n",
    "\n",
    "# Perigee radius\n",
    "rp_t1 = r_1\n",
    "\n",
    "# Velocity at the perigee\n",
    "vp_t1 = math.sqrt(2.0*mu/rp_t1)\n",
    "print(f\"vp_t1 = {vp_t1} km/s\")\n",
    "\n",
    "    ### Second transfer orbit (Orbit t_2) ###\n",
    "print(f\"Orbit t_2\")\n",
    "\n",
    "rp_t2 = r_2\n",
    "\n",
    "# Velocity at the perigee\n",
    "vp_t2 = math.sqrt(2.0*mu/rp_t2)\n",
    "print(f\"vp_t2 = {vp_t2} km/s\")\n",
    "\n",
    "    ### Delta-v calculation ###\n",
    "\n",
    "dv1 = vp_t1 - v_1\n",
    "dv2 = v_2 - vp_t2\n",
    "\n",
    "# total delta-v\n",
    "dvtp = abs(dv1) + abs(dv2)\n",
    "\n",
    "print(f\"dv1 = {dv1} km/s\")\n",
    "print(f\"dv2 = {dv2} km/s\\n\")\n",
    "print(f\"Total delta-v (parabolic) = {dvtp} km/s\\n\")\n",
    "\n",
    "\n",
    "print(f\"Hohmann transfer - bi-parabolic = {dvth - dvtp} km/s\\n\")"
   ]
  },
  {
   "cell_type": "code",
   "execution_count": null,
   "id": "55af43ca",
   "metadata": {},
   "outputs": [],
   "source": []
  }
 ],
 "metadata": {
  "kernelspec": {
   "display_name": "Python 3 (ipykernel)",
   "language": "python",
   "name": "python3"
  },
  "language_info": {
   "codemirror_mode": {
    "name": "ipython",
    "version": 3
   },
   "file_extension": ".py",
   "mimetype": "text/x-python",
   "name": "python",
   "nbconvert_exporter": "python",
   "pygments_lexer": "ipython3",
   "version": "3.10.7"
  }
 },
 "nbformat": 4,
 "nbformat_minor": 5
}
